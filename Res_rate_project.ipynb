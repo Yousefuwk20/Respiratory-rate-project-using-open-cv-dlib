{
 "cells": [
  {
   "cell_type": "markdown",
   "id": "9b8cd04f",
   "metadata": {},
   "source": [
    "# Respiration Rate Project "
   ]
  },
  {
   "cell_type": "markdown",
   "id": "e4efd435",
   "metadata": {},
   "source": [
    "# This project is based on this paper: https://pubmed.ncbi.nlm.nih.gov/33175740/"
   ]
  },
  {
   "cell_type": "markdown",
   "id": "67b95667",
   "metadata": {},
   "source": [
    "# 1. Import needed libraries"
   ]
  },
  {
   "cell_type": "code",
   "execution_count": 1,
   "id": "a97c8383",
   "metadata": {
    "ExecuteTime": {
     "end_time": "2024-05-20T23:28:00.655232Z",
     "start_time": "2024-05-20T23:27:59.543588Z"
    }
   },
   "outputs": [],
   "source": [
    "import numpy as np\n",
    "import cv2, math, dlib, time\n",
    "from scipy import signal\n",
    "from scipy.signal import find_peaks\n",
    "import matplotlib.pyplot as plt\n",
    "from matplotlib.backends.backend_tkagg import FigureCanvasTkAgg\n",
    "from PIL import Image, ImageTk\n",
    "from tkinter import filedialog\n",
    "import tkinter as tk"
   ]
  },
  {
   "cell_type": "markdown",
   "id": "fcbea1f1",
   "metadata": {},
   "source": [
    "# 2. Define function to capture live video"
   ]
  },
  {
   "cell_type": "code",
   "execution_count": 2,
   "id": "c9da9db7",
   "metadata": {
    "ExecuteTime": {
     "end_time": "2024-05-20T23:28:00.662380Z",
     "start_time": "2024-05-20T23:28:00.657237Z"
    }
   },
   "outputs": [],
   "source": [
    "def capture_video(duration=30):\n",
    "    cap = cv2.VideoCapture(0)\n",
    "    fourcc = cv2.VideoWriter_fourcc(*'mp4v')\n",
    "    fps = 30\n",
    "    out = cv2.VideoWriter('live_video.mp4', fourcc, fps, (640, 480))\n",
    "    start_time = time.time()\n",
    "    while cap.isOpened():\n",
    "        ret, frame = cap.read()\n",
    "        if ret:\n",
    "            out.write(frame)\n",
    "            cv2.imshow('frame', frame)\n",
    "            if cv2.waitKey(1) & 0xFF == ord('q') or time.time() - start_time >= duration:\n",
    "                break\n",
    "    cap.release()\n",
    "    out.release()\n",
    "    cv2.destroyAllWindows()"
   ]
  },
  {
   "cell_type": "markdown",
   "id": "433474ed",
   "metadata": {},
   "source": [
    "# 3. Define function to calculate BPM"
   ]
  },
  {
   "cell_type": "code",
   "execution_count": 3,
   "id": "b554ccfb",
   "metadata": {
    "ExecuteTime": {
     "end_time": "2024-05-20T23:28:00.681689Z",
     "start_time": "2024-05-20T23:28:00.664205Z"
    }
   },
   "outputs": [],
   "source": [
    "def analyze_video(points=None, path=None):\n",
    "        video_capture = cv2.VideoCapture(path)  \n",
    "        fps = video_capture.get(cv2.CAP_PROP_FPS)  \n",
    "\n",
    "        face_detector = dlib.get_frontal_face_detector()\n",
    "        points = (0, 0, 0, 0) \n",
    "\n",
    "        # Capture video frames and perform analysis\n",
    "        video_capture = cv2.VideoCapture(path)  \n",
    "        fps = video_capture.get(cv2.CAP_PROP_FPS)  \n",
    "        num_frames = int(video_capture.get(cv2.CAP_PROP_FRAME_COUNT))  \n",
    "        while video_capture.isOpened():  \n",
    "            ret, frame = video_capture.read()  \n",
    "            if not ret: \n",
    "                break\n",
    "            faces = face_detector(frame) \n",
    "            for face in faces: \n",
    "                face_left = face.left()\n",
    "                face_right = face.right()\n",
    "                face_top = face.top()\n",
    "                face_bottom = face.bottom()\n",
    "                length = face_bottom - face_top\n",
    "                width = face_right - face_left\n",
    "                x3 = math.ceil(face_left - (0.75 * width))\n",
    "                x4 = math.ceil(face_right + (0.75 * width))\n",
    "                y3 = math.ceil(face_bottom + (0.3 * length))\n",
    "                y4 = math.ceil(y3 + length)\n",
    "                chest_width = x4 - x3 \n",
    "                chest_height = y4 - y3 \n",
    "                cv2.rectangle(frame, (face_left, face_top), (face_right, face_bottom), (255, 0, 0), 2) \n",
    "                cv2.rectangle(frame, (x3, y3), (x4, y4), (255, 0, 0), 2) \n",
    "                points = (x3, y3, chest_width, chest_height) \n",
    "            cv2.imshow(\"frame\", frame)  \n",
    "            if cv2.waitKey(1) == 27:  \n",
    "                break\n",
    "        video_capture.release()  \n",
    "        cv2.destroyAllWindows() \n",
    "\n",
    "        # Capture processed video and calculate metrics\n",
    "        video_capture = cv2.VideoCapture(path)  \n",
    "        video_codec = cv2.VideoWriter_fourcc(*'mp4v') \n",
    "        output_video = cv2.VideoWriter('output/output.mp4', video_codec, 60, (chest_width, chest_height)) \n",
    "        sum_val_list = []  \n",
    "        x, y, w, h = points\n",
    "\n",
    "        while video_capture.isOpened(): \n",
    "            ret, frame = video_capture.read()  \n",
    "            if not ret:  \n",
    "                break\n",
    "\n",
    "            cropped_frame = frame[y:y+h, x:x+w]  \n",
    "            output_video.write(cropped_frame) \n",
    "            sum_values = np.sum(cropped_frame) \n",
    "            sum_val_list.append(sum_values)  \n",
    "            normalized_data = (sum_val_list - np.min(sum_val_list)) / (np.max(sum_val_list) - np.min(sum_val_list))\n",
    "\n",
    "            cv2.imshow('Cropped Video', cropped_frame)  \n",
    "            if cv2.waitKey(1) == 27:\n",
    "                break\n",
    "\n",
    "        video_capture.release()  \n",
    "        output_video.release() \n",
    "        cv2.destroyAllWindows() \n",
    "\n",
    "        # Perform signal processing and analysis\n",
    "        data = normalized_data  \n",
    "        sampling_rate = 30\n",
    "        nyquist_freq = 0.5 * sampling_rate  \n",
    "        lowcut = 0.16 / nyquist_freq  \n",
    "        highcut = 0.5 / nyquist_freq  \n",
    "        filter_order = 5\n",
    "        b, a = signal.butter(filter_order, [lowcut, highcut], btype='band')  \n",
    "        filtered_data = signal.filtfilt(b, a, data) \n",
    "        peaks, _ = find_peaks(filtered_data) \n",
    "        time_length = num_frames / fps \n",
    "        respiration_rate = math.ceil((len(peaks) / time_length) * 60)  \n",
    "        result_label.config(text=\"Respiration Rate (BPM): {}\".format(respiration_rate))\n",
    "\n",
    "        fig, ax = plt.subplots(figsize=(8, 4))  \n",
    "        ax.plot(filtered_data, label='Filtered Signal')  \n",
    "        ax.plot(peaks, filtered_data[peaks], \"x\", label='Peaks', color='red') \n",
    "        ax.set_title('Filtered Signal with Detected Peaks')\n",
    "        ax.legend()  \n",
    "        ax.set_xlabel('Sample')  \n",
    "        ax.set_ylabel('Normalized Output')\n",
    "\n",
    "        canvas = FigureCanvasTkAgg(fig, master=root) \n",
    "        canvas.draw()  \n",
    "        canvas.get_tk_widget().pack(side=tk.TOP, fill=tk.BOTH, expand=1)"
   ]
  },
  {
   "cell_type": "markdown",
   "id": "a22b992e",
   "metadata": {},
   "source": [
    "# 4. Additional Functions\n",
    "\n",
    "### 4.1 **Select Function:** Analyze any video on PC.\n",
    "\n",
    "### 4.2 **Live Video Function:** Capture real-time video and then analyze it.\n"
   ]
  },
  {
   "cell_type": "code",
   "execution_count": 4,
   "id": "74a95c5e",
   "metadata": {
    "ExecuteTime": {
     "end_time": "2024-05-20T23:28:00.687823Z",
     "start_time": "2024-05-20T23:28:00.683450Z"
    }
   },
   "outputs": [],
   "source": [
    "def select_video():\n",
    "    path = filedialog.askopenfilename(filetypes=[(\"Video files\", \"*.avi;*.mp4;*.MOV\")])\n",
    "    if path:\n",
    "        analyze_video(path=path)\n",
    "\n",
    "def analyze_live_video():\n",
    "    capture_video(duration=30)\n",
    "    analyze_video(path='live_video.mp4')"
   ]
  },
  {
   "cell_type": "markdown",
   "id": "8ca1c80e",
   "metadata": {},
   "source": [
    "# 5. GUI part"
   ]
  },
  {
   "cell_type": "code",
   "execution_count": 5,
   "id": "ed6ec749",
   "metadata": {
    "ExecuteTime": {
     "end_time": "2024-05-20T23:28:30.624497Z",
     "start_time": "2024-05-20T23:28:00.899734Z"
    }
   },
   "outputs": [
    {
     "name": "stderr",
     "output_type": "stream",
     "text": [
      "C:\\Users\\Yousef\\AppData\\Local\\Temp\\ipykernel_15952\\720851810.py:55: RuntimeWarning: invalid value encountered in divide\n",
      "  normalized_data = (sum_val_list - np.min(sum_val_list)) / (np.max(sum_val_list) - np.min(sum_val_list))\n"
     ]
    },
    {
     "data": {
      "image/png": "[encoded data removed]",
      "text/plain": [
       "<Figure size 800x439 with 1 Axes>"
      ]
     },
     "metadata": {},
     "output_type": "display_data"
    }
   ],
   "source": [
    "root = tk.Tk()\n",
    "root.title(\"Video Analysis\")\n",
    "root.geometry(\"800x600\")\n",
    "\n",
    "bg_image = Image.open(\"18143510_1006.webp\")\n",
    "bg_photo = ImageTk.PhotoImage(bg_image)\n",
    "\n",
    "background_label = tk.Label(root, image=bg_photo)\n",
    "background_label.place(x=0, y=0, relwidth=1, relheight=1)\n",
    "\n",
    "select_button = tk.Button(root, text=\"Select Video\", command=select_video, bg=\"blue\", fg=\"white\", padx=10, pady=5)\n",
    "select_button.pack(pady=10)\n",
    "\n",
    "live_button = tk.Button(root,text=\"Live Video\", command=analyze_live_video, bg=\"green\", fg=\"white\", padx=10, pady=5)\n",
    "live_button.pack(pady=10)\n",
    "\n",
    "result_label = tk.Label(root,text=\"\", font=(\"Arial\", 18))\n",
    "result_label.pack(pady=10)\n",
    "\n",
    "root.mainloop()"
   ]
  },
  {
   "cell_type": "code",
   "execution_count": null,
   "id": "6ad0fab2",
   "metadata": {},
   "outputs": [],
   "source": []
  },
  {
   "cell_type": "code",
   "execution_count": null,
   "id": "d4590098",
   "metadata": {},
   "outputs": [],
   "source": []
  },
  {
   "cell_type": "code",
   "execution_count": null,
   "id": "9d72924f",
   "metadata": {},
   "outputs": [],
   "source": []
  },
  {
   "cell_type": "code",
   "execution_count": null,
   "id": "53abe866",
   "metadata": {},
   "outputs": [],
   "source": []
  },
  {
   "cell_type": "code",
   "execution_count": null,
   "id": "cbed4153",
   "metadata": {},
   "outputs": [],
   "source": []
  },
  {
   "cell_type": "code",
   "execution_count": null,
   "id": "beed3e7d",
   "metadata": {},
   "outputs": [],
   "source": []
  },
  {
   "cell_type": "code",
   "execution_count": null,
   "id": "fbe23418",
   "metadata": {},
   "outputs": [],
   "source": []
  },
  {
   "cell_type": "code",
   "execution_count": null,
   "id": "ee2d1f5a",
   "metadata": {},
   "outputs": [],
   "source": []
  },
  {
   "cell_type": "code",
   "execution_count": null,
   "id": "eae50f00",
   "metadata": {},
   "outputs": [],
   "source": []
  },
  {
   "cell_type": "code",
   "execution_count": null,
   "id": "1aa1360c",
   "metadata": {},
   "outputs": [],
   "source": []
  },
  {
   "cell_type": "code",
   "execution_count": null,
   "id": "2a4f16e5",
   "metadata": {},
   "outputs": [],
   "source": []
  },
  {
   "cell_type": "code",
   "execution_count": null,
   "id": "2cceb9be",
   "metadata": {},
   "outputs": [],
   "source": []
  },
  {
   "cell_type": "code",
   "execution_count": null,
   "id": "bbf0d84f",
   "metadata": {},
   "outputs": [],
   "source": []
  },
  {
   "cell_type": "code",
   "execution_count": null,
   "id": "54e06228",
   "metadata": {},
   "outputs": [],
   "source": []
  },
  {
   "cell_type": "code",
   "execution_count": null,
   "id": "24bac972",
   "metadata": {},
   "outputs": [],
   "source": []
  }
 ],
 "metadata": {
  "kernelspec": {
   "display_name": "Python 3 (ipykernel)",
   "language": "python",
   "name": "python3"
  },
  "language_info": {
   "codemirror_mode": {
    "name": "ipython",
    "version": 3
   },
   "file_extension": ".py",
   "mimetype": "text/x-python",
   "name": "python",
   "nbconvert_exporter": "python",
   "pygments_lexer": "ipython3",
   "version": "3.11.5"
  }
 },
 "nbformat": 4,
 "nbformat_minor": 5
}
